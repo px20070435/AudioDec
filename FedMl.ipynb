{
  "cells": [
    {
      "cell_type": "markdown",
      "metadata": {
        "id": "view-in-github",
        "colab_type": "text"
      },
      "source": [
        "<a href=\"https://colab.research.google.com/github/px20070435/AudioDec/blob/main/FedMl.ipynb\" target=\"_parent\"><img src=\"https://colab.research.google.com/assets/colab-badge.svg\" alt=\"Open In Colab\"/></a>"
      ]
    },
    {
      "cell_type": "code",
      "source": [
        "from google.colab import drive\n",
        "drive.mount('/content/drive')"
      ],
      "metadata": {
        "id": "dGuZUJV3eAMO",
        "colab": {
          "base_uri": "https://localhost:8080/"
        },
        "outputId": "f59cb770-8473-4fd3-e827-68f763076a3c"
      },
      "execution_count": 1,
      "outputs": [
        {
          "output_type": "stream",
          "name": "stdout",
          "text": [
            "Drive already mounted at /content/drive; to attempt to forcibly remount, call drive.mount(\"/content/drive\", force_remount=True).\n"
          ]
        }
      ]
    },
    {
      "cell_type": "code",
      "execution_count": 2,
      "metadata": {
        "id": "SIXzuhJF8ecI"
      },
      "outputs": [],
      "source": [
        "file_path = '/content/drive/MyDrive/FedML-master'"
      ]
    },
    {
      "cell_type": "code",
      "execution_count": 3,
      "metadata": {
        "colab": {
          "base_uri": "https://localhost:8080/"
        },
        "id": "P8C0LtJe9wJu",
        "outputId": "a4b5b31e-e594-4e1b-8e88-1563223fe659"
      },
      "outputs": [
        {
          "output_type": "stream",
          "name": "stdout",
          "text": [
            "Requirement already satisfied: certifi in /usr/local/lib/python3.10/dist-packages (from -r /content/drive/MyDrive/FedML-master/requirements.txt (line 1)) (2024.2.2)\n",
            "Requirement already satisfied: chardet==3.0.4 in /usr/local/lib/python3.10/dist-packages (from -r /content/drive/MyDrive/FedML-master/requirements.txt (line 2)) (3.0.4)\n",
            "Requirement already satisfied: et-xmlfile==1.0.1 in /usr/local/lib/python3.10/dist-packages (from -r /content/drive/MyDrive/FedML-master/requirements.txt (line 3)) (1.0.1)\n",
            "Requirement already satisfied: idna==2.10 in /usr/local/lib/python3.10/dist-packages (from -r /content/drive/MyDrive/FedML-master/requirements.txt (line 4)) (2.10)\n",
            "Requirement already satisfied: jdcal==1.4.1 in /usr/local/lib/python3.10/dist-packages (from -r /content/drive/MyDrive/FedML-master/requirements.txt (line 5)) (1.4.1)\n",
            "Requirement already satisfied: requests==2.27.1 in /usr/local/lib/python3.10/dist-packages (from -r /content/drive/MyDrive/FedML-master/requirements.txt (line 6)) (2.27.1)\n",
            "Requirement already satisfied: ruamel.yaml==0.16.10 in /usr/local/lib/python3.10/dist-packages (from -r /content/drive/MyDrive/FedML-master/requirements.txt (line 7)) (0.16.10)\n",
            "Requirement already satisfied: ruamel.yaml.clib in /usr/local/lib/python3.10/dist-packages (from -r /content/drive/MyDrive/FedML-master/requirements.txt (line 8)) (0.2.8)\n",
            "Requirement already satisfied: flask==1.1.2 in /usr/local/lib/python3.10/dist-packages (from -r /content/drive/MyDrive/FedML-master/requirements.txt (line 9)) (1.1.2)\n",
            "Requirement already satisfied: gunicorn==20.0.4 in /usr/local/lib/python3.10/dist-packages (from -r /content/drive/MyDrive/FedML-master/requirements.txt (line 10)) (20.0.4)\n",
            "Requirement already satisfied: paho-mqtt==1.5.0 in /usr/local/lib/python3.10/dist-packages (from -r /content/drive/MyDrive/FedML-master/requirements.txt (line 11)) (1.5.0)\n",
            "Requirement already satisfied: Celery==5.2.2 in /usr/local/lib/python3.10/dist-packages (from -r /content/drive/MyDrive/FedML-master/requirements.txt (line 12)) (5.2.2)\n",
            "Requirement already satisfied: dill==0.3.3 in /usr/local/lib/python3.10/dist-packages (from -r /content/drive/MyDrive/FedML-master/requirements.txt (line 13)) (0.3.3)\n",
            "Requirement already satisfied: protobuf==3.20.1 in /usr/local/lib/python3.10/dist-packages (from -r /content/drive/MyDrive/FedML-master/requirements.txt (line 14)) (3.20.1)\n",
            "Requirement already satisfied: grpcio in /usr/local/lib/python3.10/dist-packages (from -r /content/drive/MyDrive/FedML-master/requirements.txt (line 15)) (1.63.0)\n",
            "Requirement already satisfied: grpcio-tools in /usr/local/lib/python3.10/dist-packages (from -r /content/drive/MyDrive/FedML-master/requirements.txt (line 16)) (1.48.2)\n",
            "Requirement already satisfied: boto3==1.18.21 in /usr/local/lib/python3.10/dist-packages (from -r /content/drive/MyDrive/FedML-master/requirements.txt (line 17)) (1.18.21)\n",
            "Requirement already satisfied: loguru==0.5.3 in /usr/local/lib/python3.10/dist-packages (from -r /content/drive/MyDrive/FedML-master/requirements.txt (line 18)) (0.5.3)\n",
            "Requirement already satisfied: wandb==0.12.9 in /usr/local/lib/python3.10/dist-packages (from -r /content/drive/MyDrive/FedML-master/requirements.txt (line 19)) (0.12.9)\n",
            "Requirement already satisfied: psutil in /usr/local/lib/python3.10/dist-packages (from -r /content/drive/MyDrive/FedML-master/requirements.txt (line 20)) (5.9.5)\n",
            "Requirement already satisfied: pynvml in /usr/local/lib/python3.10/dist-packages (from -r /content/drive/MyDrive/FedML-master/requirements.txt (line 21)) (11.5.0)\n",
            "Requirement already satisfied: gevent in /usr/local/lib/python3.10/dist-packages (from -r /content/drive/MyDrive/FedML-master/requirements.txt (line 22)) (24.2.1)\n",
            "Requirement already satisfied: urllib3<1.27,>=1.21.1 in /usr/local/lib/python3.10/dist-packages (from requests==2.27.1->-r /content/drive/MyDrive/FedML-master/requirements.txt (line 6)) (1.26.18)\n",
            "Requirement already satisfied: charset-normalizer~=2.0.0 in /usr/local/lib/python3.10/dist-packages (from requests==2.27.1->-r /content/drive/MyDrive/FedML-master/requirements.txt (line 6)) (2.0.12)\n",
            "Requirement already satisfied: Werkzeug>=0.15 in /usr/local/lib/python3.10/dist-packages (from flask==1.1.2->-r /content/drive/MyDrive/FedML-master/requirements.txt (line 9)) (3.0.2)\n",
            "Requirement already satisfied: Jinja2>=2.10.1 in /usr/local/lib/python3.10/dist-packages (from flask==1.1.2->-r /content/drive/MyDrive/FedML-master/requirements.txt (line 9)) (3.1.3)\n",
            "Requirement already satisfied: itsdangerous>=0.24 in /usr/local/lib/python3.10/dist-packages (from flask==1.1.2->-r /content/drive/MyDrive/FedML-master/requirements.txt (line 9)) (2.2.0)\n",
            "Requirement already satisfied: click>=5.1 in /usr/local/lib/python3.10/dist-packages (from flask==1.1.2->-r /content/drive/MyDrive/FedML-master/requirements.txt (line 9)) (8.1.7)\n",
            "Requirement already satisfied: setuptools>=3.0 in /usr/local/lib/python3.10/dist-packages (from gunicorn==20.0.4->-r /content/drive/MyDrive/FedML-master/requirements.txt (line 10)) (67.7.2)\n",
            "Requirement already satisfied: pytz>0.dev.0 in /usr/local/lib/python3.10/dist-packages (from Celery==5.2.2->-r /content/drive/MyDrive/FedML-master/requirements.txt (line 12)) (2023.4)\n",
            "Requirement already satisfied: billiard<4.0,>=3.6.4.0 in /usr/local/lib/python3.10/dist-packages (from Celery==5.2.2->-r /content/drive/MyDrive/FedML-master/requirements.txt (line 12)) (3.6.4.0)\n",
            "Requirement already satisfied: kombu<6.0,>=5.2.2 in /usr/local/lib/python3.10/dist-packages (from Celery==5.2.2->-r /content/drive/MyDrive/FedML-master/requirements.txt (line 12)) (5.3.7)\n",
            "Requirement already satisfied: vine<6.0,>=5.0.0 in /usr/local/lib/python3.10/dist-packages (from Celery==5.2.2->-r /content/drive/MyDrive/FedML-master/requirements.txt (line 12)) (5.1.0)\n",
            "Requirement already satisfied: click-didyoumean>=0.0.3 in /usr/local/lib/python3.10/dist-packages (from Celery==5.2.2->-r /content/drive/MyDrive/FedML-master/requirements.txt (line 12)) (0.3.1)\n",
            "Requirement already satisfied: click-repl>=0.2.0 in /usr/local/lib/python3.10/dist-packages (from Celery==5.2.2->-r /content/drive/MyDrive/FedML-master/requirements.txt (line 12)) (0.3.0)\n",
            "Requirement already satisfied: click-plugins>=1.1.1 in /usr/local/lib/python3.10/dist-packages (from Celery==5.2.2->-r /content/drive/MyDrive/FedML-master/requirements.txt (line 12)) (1.1.1)\n",
            "Requirement already satisfied: botocore<1.22.0,>=1.21.21 in /usr/local/lib/python3.10/dist-packages (from boto3==1.18.21->-r /content/drive/MyDrive/FedML-master/requirements.txt (line 17)) (1.21.65)\n",
            "Requirement already satisfied: jmespath<1.0.0,>=0.7.1 in /usr/local/lib/python3.10/dist-packages (from boto3==1.18.21->-r /content/drive/MyDrive/FedML-master/requirements.txt (line 17)) (0.10.0)\n",
            "Requirement already satisfied: s3transfer<0.6.0,>=0.5.0 in /usr/local/lib/python3.10/dist-packages (from boto3==1.18.21->-r /content/drive/MyDrive/FedML-master/requirements.txt (line 17)) (0.5.2)\n",
            "Requirement already satisfied: GitPython>=1.0.0 in /usr/local/lib/python3.10/dist-packages (from wandb==0.12.9->-r /content/drive/MyDrive/FedML-master/requirements.txt (line 19)) (3.1.43)\n",
            "Requirement already satisfied: yaspin>=1.0.0 in /usr/local/lib/python3.10/dist-packages (from wandb==0.12.9->-r /content/drive/MyDrive/FedML-master/requirements.txt (line 19)) (3.0.2)\n",
            "Requirement already satisfied: python-dateutil>=2.6.1 in /usr/local/lib/python3.10/dist-packages (from wandb==0.12.9->-r /content/drive/MyDrive/FedML-master/requirements.txt (line 19)) (2.8.2)\n",
            "Requirement already satisfied: promise<3,>=2.0 in /usr/local/lib/python3.10/dist-packages (from wandb==0.12.9->-r /content/drive/MyDrive/FedML-master/requirements.txt (line 19)) (2.3)\n",
            "Requirement already satisfied: shortuuid>=0.5.0 in /usr/local/lib/python3.10/dist-packages (from wandb==0.12.9->-r /content/drive/MyDrive/FedML-master/requirements.txt (line 19)) (1.0.13)\n",
            "Requirement already satisfied: six>=1.13.0 in /usr/local/lib/python3.10/dist-packages (from wandb==0.12.9->-r /content/drive/MyDrive/FedML-master/requirements.txt (line 19)) (1.16.0)\n",
            "Requirement already satisfied: sentry-sdk>=1.0.0 in /usr/local/lib/python3.10/dist-packages (from wandb==0.12.9->-r /content/drive/MyDrive/FedML-master/requirements.txt (line 19)) (2.0.1)\n",
            "Requirement already satisfied: subprocess32>=3.5.3 in /usr/local/lib/python3.10/dist-packages (from wandb==0.12.9->-r /content/drive/MyDrive/FedML-master/requirements.txt (line 19)) (3.5.4)\n",
            "Requirement already satisfied: docker-pycreds>=0.4.0 in /usr/local/lib/python3.10/dist-packages (from wandb==0.12.9->-r /content/drive/MyDrive/FedML-master/requirements.txt (line 19)) (0.4.0)\n",
            "Requirement already satisfied: configparser>=3.8.1 in /usr/local/lib/python3.10/dist-packages (from wandb==0.12.9->-r /content/drive/MyDrive/FedML-master/requirements.txt (line 19)) (7.0.0)\n",
            "Requirement already satisfied: PyYAML in /usr/local/lib/python3.10/dist-packages (from wandb==0.12.9->-r /content/drive/MyDrive/FedML-master/requirements.txt (line 19)) (6.0.1)\n",
            "Requirement already satisfied: pathtools in /usr/local/lib/python3.10/dist-packages (from wandb==0.12.9->-r /content/drive/MyDrive/FedML-master/requirements.txt (line 19)) (0.1.2)\n",
            "Requirement already satisfied: zope.event in /usr/local/lib/python3.10/dist-packages (from gevent->-r /content/drive/MyDrive/FedML-master/requirements.txt (line 22)) (5.0)\n",
            "Requirement already satisfied: zope.interface in /usr/local/lib/python3.10/dist-packages (from gevent->-r /content/drive/MyDrive/FedML-master/requirements.txt (line 22)) (6.3)\n",
            "Requirement already satisfied: greenlet>=2.0.0 in /usr/local/lib/python3.10/dist-packages (from gevent->-r /content/drive/MyDrive/FedML-master/requirements.txt (line 22)) (3.0.3)\n",
            "Requirement already satisfied: prompt-toolkit>=3.0.36 in /usr/local/lib/python3.10/dist-packages (from click-repl>=0.2.0->Celery==5.2.2->-r /content/drive/MyDrive/FedML-master/requirements.txt (line 12)) (3.0.43)\n",
            "Requirement already satisfied: gitdb<5,>=4.0.1 in /usr/local/lib/python3.10/dist-packages (from GitPython>=1.0.0->wandb==0.12.9->-r /content/drive/MyDrive/FedML-master/requirements.txt (line 19)) (4.0.11)\n",
            "Requirement already satisfied: MarkupSafe>=2.0 in /usr/local/lib/python3.10/dist-packages (from Jinja2>=2.10.1->flask==1.1.2->-r /content/drive/MyDrive/FedML-master/requirements.txt (line 9)) (2.1.5)\n",
            "Requirement already satisfied: amqp<6.0.0,>=5.1.1 in /usr/local/lib/python3.10/dist-packages (from kombu<6.0,>=5.2.2->Celery==5.2.2->-r /content/drive/MyDrive/FedML-master/requirements.txt (line 12)) (5.2.0)\n",
            "Requirement already satisfied: termcolor==2.3.0 in /usr/local/lib/python3.10/dist-packages (from yaspin>=1.0.0->wandb==0.12.9->-r /content/drive/MyDrive/FedML-master/requirements.txt (line 19)) (2.3.0)\n",
            "Requirement already satisfied: smmap<6,>=3.0.1 in /usr/local/lib/python3.10/dist-packages (from gitdb<5,>=4.0.1->GitPython>=1.0.0->wandb==0.12.9->-r /content/drive/MyDrive/FedML-master/requirements.txt (line 19)) (5.0.1)\n",
            "Requirement already satisfied: wcwidth in /usr/local/lib/python3.10/dist-packages (from prompt-toolkit>=3.0.36->click-repl>=0.2.0->Celery==5.2.2->-r /content/drive/MyDrive/FedML-master/requirements.txt (line 12)) (0.2.13)\n"
          ]
        }
      ],
      "source": [
        "!pip install -r '/content/drive/MyDrive/FedML-master/requirements.txt'"
      ]
    },
    {
      "cell_type": "code",
      "execution_count": 4,
      "metadata": {
        "colab": {
          "base_uri": "https://localhost:8080/"
        },
        "id": "EmtgluL9_5Kh",
        "outputId": "704d5501-6087-40fe-e90a-dc34272fa34c"
      },
      "outputs": [
        {
          "output_type": "stream",
          "name": "stdout",
          "text": [
            "/content/drive/.shortcut-targets-by-id/1UAOtIo6lsctj7XtTnkvaqnKmwqxPxLzM/FedML-master/fedml_experiments/standalone/fedavg\n"
          ]
        }
      ],
      "source": [
        "cd /content/drive/MyDrive/FedML-master/fedml_experiments/standalone/fedavg"
      ]
    },
    {
      "cell_type": "code",
      "execution_count": 5,
      "metadata": {
        "colab": {
          "base_uri": "https://localhost:8080/",
          "height": 124
        },
        "id": "gU3T50DeDBfo",
        "outputId": "78c4534e-2be7-47f3-c5bd-438a42245463"
      },
      "outputs": [
        {
          "output_type": "stream",
          "name": "stderr",
          "text": [
            "ERROR:wandb.jupyter:Failed to detect the name of this notebook, you can set it manually with the WANDB_NOTEBOOK_NAME environment variable to enable code saving.\n"
          ]
        },
        {
          "output_type": "display_data",
          "data": {
            "text/plain": [
              "<IPython.core.display.Javascript object>"
            ],
            "application/javascript": [
              "\n",
              "        window._wandbApiKey = new Promise((resolve, reject) => {\n",
              "            function loadScript(url) {\n",
              "            return new Promise(function(resolve, reject) {\n",
              "                let newScript = document.createElement(\"script\");\n",
              "                newScript.onerror = reject;\n",
              "                newScript.onload = resolve;\n",
              "                document.body.appendChild(newScript);\n",
              "                newScript.src = url;\n",
              "            });\n",
              "            }\n",
              "            loadScript(\"https://cdn.jsdelivr.net/npm/postmate/build/postmate.min.js\").then(() => {\n",
              "            const iframe = document.createElement('iframe')\n",
              "            iframe.style.cssText = \"width:0;height:0;border:none\"\n",
              "            document.body.appendChild(iframe)\n",
              "            const handshake = new Postmate({\n",
              "                container: iframe,\n",
              "                url: 'https://wandb.ai/authorize'\n",
              "            });\n",
              "            const timeout = setTimeout(() => reject(\"Couldn't auto authenticate\"), 5000)\n",
              "            handshake.then(function(child) {\n",
              "                child.on('authorize', data => {\n",
              "                    clearTimeout(timeout)\n",
              "                    resolve(data)\n",
              "                });\n",
              "            });\n",
              "            })\n",
              "        });\n",
              "    "
            ]
          },
          "metadata": {}
        },
        {
          "output_type": "stream",
          "name": "stderr",
          "text": [
            "\u001b[34m\u001b[1mwandb\u001b[0m: You can find your API key in your browser here: https://wandb.ai/authorize\n"
          ]
        },
        {
          "name": "stdout",
          "output_type": "stream",
          "text": [
            "wandb: Paste an API key from your profile and hit enter, or press ctrl+c to quit: ··········\n"
          ]
        },
        {
          "output_type": "stream",
          "name": "stderr",
          "text": [
            "\u001b[34m\u001b[1mwandb\u001b[0m: Appending key for api.wandb.ai to your netrc file: /root/.netrc\n"
          ]
        },
        {
          "output_type": "execute_result",
          "data": {
            "text/plain": [
              "True"
            ]
          },
          "metadata": {},
          "execution_count": 5
        }
      ],
      "source": [
        "import wandb\n",
        "wandb.login()"
      ]
    },
    {
      "cell_type": "code",
      "execution_count": null,
      "metadata": {
        "colab": {
          "base_uri": "https://localhost:8080/"
        },
        "id": "9NJc2Xbn_MRe",
        "outputId": "5f7b57a1-93f9-4255-b3a9-35efb17386b1"
      },
      "outputs": [
        {
          "output_type": "stream",
          "name": "stdout",
          "text": [
            "INFO:root:Namespace(model='resnet18', dataset='cifar10', data_dir='./../../../data/cifar10', partition_method='hetero', partition_alpha=0.5, batch_size=10, client_optimizer='sgd', lr=0.03, wd=0.001, epochs=1, client_num_in_total=1, client_num_per_round=1, comm_round=20, frequency_of_the_test=5, gpu=0, ci=0)\n",
            "INFO:root:cuda:0\n",
            "DEBUG:wandb.sdk.lib.git:git repository is invalid\n",
            "DEBUG:urllib3.connectionpool:Starting new HTTPS connection (1): api.wandb.ai:443\n",
            "DEBUG:urllib3.connectionpool:https://api.wandb.ai:443 \"POST /graphql HTTP/1.1\" 200 None\n",
            "DEBUG:urllib3.connectionpool:Starting new HTTPS connection (1): api.wandb.ai:443\n",
            "DEBUG:urllib3.connectionpool:https://api.wandb.ai:443 \"POST /graphql HTTP/1.1\" 200 None\n",
            "\u001b[34m\u001b[1mwandb\u001b[0m: Currently logged in as: \u001b[33mzhyu9\u001b[0m (use `wandb login --relogin` to force relogin)\n",
            "\u001b[34m\u001b[1mwandb\u001b[0m: wandb version 0.16.6 is available!  To upgrade, please run:\n",
            "\u001b[34m\u001b[1mwandb\u001b[0m:  $ pip install wandb --upgrade\n",
            "2024-05-02 18:14:24.976047: E external/local_xla/xla/stream_executor/cuda/cuda_dnn.cc:9261] Unable to register cuDNN factory: Attempting to register factory for plugin cuDNN when one has already been registered\n",
            "2024-05-02 18:14:24.976109: E external/local_xla/xla/stream_executor/cuda/cuda_fft.cc:607] Unable to register cuFFT factory: Attempting to register factory for plugin cuFFT when one has already been registered\n",
            "2024-05-02 18:14:24.977456: E external/local_xla/xla/stream_executor/cuda/cuda_blas.cc:1515] Unable to register cuBLAS factory: Attempting to register factory for plugin cuBLAS when one has already been registered\n",
            "2024-05-02 18:14:26.066722: W tensorflow/compiler/tf2tensorrt/utils/py_utils.cc:38] TF-TRT Warning: Could not find TensorRT\n",
            "\u001b[34m\u001b[1mwandb\u001b[0m: Tracking run with wandb version 0.12.9\n",
            "\u001b[34m\u001b[1mwandb\u001b[0m: Syncing run \u001b[33mFedAVG-r20-e1-lr0.03\u001b[0m\n",
            "\u001b[34m\u001b[1mwandb\u001b[0m:  View project at \u001b[34m\u001b[4mhttps://wandb.ai/zhyu9/fedml\u001b[0m\n",
            "\u001b[34m\u001b[1mwandb\u001b[0m:  View run at \u001b[34m\u001b[4mhttps://wandb.ai/zhyu9/fedml/runs/8phu3mo6\u001b[0m\n",
            "\u001b[34m\u001b[1mwandb\u001b[0m: Run data is saved locally in /content/drive/.shortcut-targets-by-id/1UAOtIo6lsctj7XtTnkvaqnKmwqxPxLzM/FedML-master/fedml_experiments/standalone/fedavg/wandb/run-20240502_181423-8phu3mo6\n",
            "\u001b[34m\u001b[1mwandb\u001b[0m: Run `wandb offline` to turn off syncing.\n",
            "\n",
            "INFO:root:*********partition data***************\n",
            "download = True\n",
            "Files already downloaded and verified\n",
            "download = True\n",
            "Files already downloaded and verified\n",
            "INFO:root:N = 50000\n",
            "DEBUG:root:Data statistics: {0: {0: 5000, 1: 5000, 2: 5000, 3: 5000, 4: 5000, 5: 5000, 6: 5000, 7: 5000, 8: 5000, 9: 5000}}\n",
            "download = True\n",
            "INFO:root:traindata_cls_counts = {0: {0: 5000, 1: 5000, 2: 5000, 3: 5000, 4: 5000, 5: 5000, 6: 5000, 7: 5000, 8: 5000, 9: 5000}}\n",
            "Files already downloaded and verified\n",
            "download = True\n",
            "Files already downloaded and verified\n",
            "INFO:root:train_dl_global number = 5000\n",
            "INFO:root:test_dl_global number = 1000\n",
            "INFO:root:client_idx = 0, local_sample_number = 50000\n",
            "download = True\n",
            "Files already downloaded and verified\n",
            "download = True\n",
            "Files already downloaded and verified\n",
            "INFO:root:client_idx = 0, batch_num_train_local = 5000, batch_num_test_local = 1000\n",
            "INFO:root:create_model. model_name = resnet18, output_dim = 10\n",
            "num_channels_per_group:0\n",
            "num_channels_per_group:0\n",
            "num_channels_per_group:0\n",
            "num_channels_per_group:0\n",
            "num_channels_per_group:0\n",
            "num_channels_per_group:0\n",
            "num_channels_per_group:0\n",
            "num_channels_per_group:0\n",
            "num_channels_per_group:0\n",
            "num_channels_per_group:0\n",
            "num_channels_per_group:0\n",
            "num_channels_per_group:0\n",
            "num_channels_per_group:0\n",
            "num_channels_per_group:0\n",
            "num_channels_per_group:0\n",
            "num_channels_per_group:0\n",
            "num_channels_per_group:0\n",
            "num_channels_per_group:0\n",
            "num_channels_per_group:0\n",
            "num_channels_per_group:0\n",
            "INFO:root:ResNet(\n",
            "  (conv1): Conv2d(3, 64, kernel_size=(7, 7), stride=(2, 2), padding=(3, 3), bias=False)\n",
            "  (bn1): BatchNorm2d(64, eps=1e-05, momentum=0.1, affine=True, track_running_stats=True)\n",
            "  (relu): ReLU(inplace=True)\n",
            "  (maxpool): MaxPool2d(kernel_size=3, stride=2, padding=1, dilation=1, ceil_mode=False)\n",
            "  (layer1): Sequential(\n",
            "    (0): BasicBlock(\n",
            "      (conv1): Conv2d(64, 64, kernel_size=(3, 3), stride=(1, 1), padding=(1, 1), bias=False)\n",
            "      (bn1): BatchNorm2d(64, eps=1e-05, momentum=0.1, affine=True, track_running_stats=True)\n",
            "      (relu): ReLU(inplace=True)\n",
            "      (conv2): Conv2d(64, 64, kernel_size=(3, 3), stride=(1, 1), padding=(1, 1), bias=False)\n",
            "      (bn2): BatchNorm2d(64, eps=1e-05, momentum=0.1, affine=True, track_running_stats=True)\n",
            "    )\n",
            "    (1): BasicBlock(\n",
            "      (conv1): Conv2d(64, 64, kernel_size=(3, 3), stride=(1, 1), padding=(1, 1), bias=False)\n",
            "      (bn1): BatchNorm2d(64, eps=1e-05, momentum=0.1, affine=True, track_running_stats=True)\n",
            "      (relu): ReLU(inplace=True)\n",
            "      (conv2): Conv2d(64, 64, kernel_size=(3, 3), stride=(1, 1), padding=(1, 1), bias=False)\n",
            "      (bn2): BatchNorm2d(64, eps=1e-05, momentum=0.1, affine=True, track_running_stats=True)\n",
            "    )\n",
            "  )\n",
            "  (layer2): Sequential(\n",
            "    (0): BasicBlock(\n",
            "      (conv1): Conv2d(64, 128, kernel_size=(3, 3), stride=(2, 2), padding=(1, 1), bias=False)\n",
            "      (bn1): BatchNorm2d(128, eps=1e-05, momentum=0.1, affine=True, track_running_stats=True)\n",
            "      (relu): ReLU(inplace=True)\n",
            "      (conv2): Conv2d(128, 128, kernel_size=(3, 3), stride=(1, 1), padding=(1, 1), bias=False)\n",
            "      (bn2): BatchNorm2d(128, eps=1e-05, momentum=0.1, affine=True, track_running_stats=True)\n",
            "      (downsample): Sequential(\n",
            "        (0): Conv2d(64, 128, kernel_size=(1, 1), stride=(2, 2), bias=False)\n",
            "        (1): BatchNorm2d(128, eps=1e-05, momentum=0.1, affine=True, track_running_stats=True)\n",
            "      )\n",
            "    )\n",
            "    (1): BasicBlock(\n",
            "      (conv1): Conv2d(128, 128, kernel_size=(3, 3), stride=(1, 1), padding=(1, 1), bias=False)\n",
            "      (bn1): BatchNorm2d(128, eps=1e-05, momentum=0.1, affine=True, track_running_stats=True)\n",
            "      (relu): ReLU(inplace=True)\n",
            "      (conv2): Conv2d(128, 128, kernel_size=(3, 3), stride=(1, 1), padding=(1, 1), bias=False)\n",
            "      (bn2): BatchNorm2d(128, eps=1e-05, momentum=0.1, affine=True, track_running_stats=True)\n",
            "    )\n",
            "  )\n",
            "  (layer3): Sequential(\n",
            "    (0): BasicBlock(\n",
            "      (conv1): Conv2d(128, 256, kernel_size=(3, 3), stride=(2, 2), padding=(1, 1), bias=False)\n",
            "      (bn1): BatchNorm2d(256, eps=1e-05, momentum=0.1, affine=True, track_running_stats=True)\n",
            "      (relu): ReLU(inplace=True)\n",
            "      (conv2): Conv2d(256, 256, kernel_size=(3, 3), stride=(1, 1), padding=(1, 1), bias=False)\n",
            "      (bn2): BatchNorm2d(256, eps=1e-05, momentum=0.1, affine=True, track_running_stats=True)\n",
            "      (downsample): Sequential(\n",
            "        (0): Conv2d(128, 256, kernel_size=(1, 1), stride=(2, 2), bias=False)\n",
            "        (1): BatchNorm2d(256, eps=1e-05, momentum=0.1, affine=True, track_running_stats=True)\n",
            "      )\n",
            "    )\n",
            "    (1): BasicBlock(\n",
            "      (conv1): Conv2d(256, 256, kernel_size=(3, 3), stride=(1, 1), padding=(1, 1), bias=False)\n",
            "      (bn1): BatchNorm2d(256, eps=1e-05, momentum=0.1, affine=True, track_running_stats=True)\n",
            "      (relu): ReLU(inplace=True)\n",
            "      (conv2): Conv2d(256, 256, kernel_size=(3, 3), stride=(1, 1), padding=(1, 1), bias=False)\n",
            "      (bn2): BatchNorm2d(256, eps=1e-05, momentum=0.1, affine=True, track_running_stats=True)\n",
            "    )\n",
            "  )\n",
            "  (layer4): Sequential(\n",
            "    (0): BasicBlock(\n",
            "      (conv1): Conv2d(256, 512, kernel_size=(3, 3), stride=(2, 2), padding=(1, 1), bias=False)\n",
            "      (bn1): BatchNorm2d(512, eps=1e-05, momentum=0.1, affine=True, track_running_stats=True)\n",
            "      (relu): ReLU(inplace=True)\n",
            "      (conv2): Conv2d(512, 512, kernel_size=(3, 3), stride=(1, 1), padding=(1, 1), bias=False)\n",
            "      (bn2): BatchNorm2d(512, eps=1e-05, momentum=0.1, affine=True, track_running_stats=True)\n",
            "      (downsample): Sequential(\n",
            "        (0): Conv2d(256, 512, kernel_size=(1, 1), stride=(2, 2), bias=False)\n",
            "        (1): BatchNorm2d(512, eps=1e-05, momentum=0.1, affine=True, track_running_stats=True)\n",
            "      )\n",
            "    )\n",
            "    (1): BasicBlock(\n",
            "      (conv1): Conv2d(512, 512, kernel_size=(3, 3), stride=(1, 1), padding=(1, 1), bias=False)\n",
            "      (bn1): BatchNorm2d(512, eps=1e-05, momentum=0.1, affine=True, track_running_stats=True)\n",
            "      (relu): ReLU(inplace=True)\n",
            "      (conv2): Conv2d(512, 512, kernel_size=(3, 3), stride=(1, 1), padding=(1, 1), bias=False)\n",
            "      (bn2): BatchNorm2d(512, eps=1e-05, momentum=0.1, affine=True, track_running_stats=True)\n",
            "    )\n",
            "  )\n",
            "  (avgpool): AvgPool2d(kernel_size=1, stride=1, padding=0)\n",
            "  (fc): Linear(in_features=512, out_features=10, bias=True)\n",
            ")\n",
            "INFO:root:############setup_clients (START)#############\n",
            "INFO:root:self.local_sample_number = 50000\n",
            "INFO:root:############setup_clients (END)#############\n",
            "INFO:root:################Communication round : 0\n",
            "INFO:root:client_indexes = [0]\n",
            "INFO:root:client_indexes = [0]\n",
            "INFO:root:Client Index = 0\tEpoch: 0\tLoss: 2.064405\n",
            "INFO:root:################local_test_on_all_clients : 0\n",
            "INFO:root:{'training_acc': 0.38278, 'training_loss': 1.6495073907136917}\n",
            "INFO:root:{'test_acc': 0.4166, 'test_loss': 1.5827977073788644}\n",
            "INFO:root:################Communication round : 1\n",
            "INFO:root:client_indexes = [0]\n",
            "INFO:root:client_indexes = [0]\n",
            "INFO:root:Client Index = 0\tEpoch: 0\tLoss: 1.674076\n",
            "INFO:root:################Communication round : 2\n",
            "INFO:root:client_indexes = [0]\n",
            "INFO:root:client_indexes = [0]\n",
            "INFO:root:Client Index = 0\tEpoch: 0\tLoss: 1.463764\n",
            "INFO:root:################Communication round : 3\n",
            "INFO:root:client_indexes = [0]\n",
            "INFO:root:client_indexes = [0]\n",
            "INFO:root:Client Index = 0\tEpoch: 0\tLoss: 1.287846\n",
            "INFO:root:################Communication round : 4\n",
            "INFO:root:client_indexes = [0]\n",
            "INFO:root:client_indexes = [0]\n",
            "INFO:root:Client Index = 0\tEpoch: 0\tLoss: 1.110620\n",
            "INFO:root:################Communication round : 5\n",
            "INFO:root:client_indexes = [0]\n",
            "INFO:root:client_indexes = [0]\n",
            "INFO:root:Client Index = 0\tEpoch: 0\tLoss: 0.931364\n",
            "INFO:root:################local_test_on_all_clients : 5\n",
            "INFO:root:{'training_acc': 0.63794, 'training_loss': 1.0569355748817324}\n",
            "INFO:root:{'test_acc': 0.605, 'test_loss': 1.3360930555686354}\n",
            "INFO:root:################Communication round : 6\n",
            "INFO:root:client_indexes = [0]\n",
            "INFO:root:client_indexes = [0]\n",
            "INFO:root:Client Index = 0\tEpoch: 0\tLoss: 0.758169\n",
            "INFO:root:################Communication round : 7\n",
            "INFO:root:client_indexes = [0]\n",
            "INFO:root:client_indexes = [0]\n",
            "INFO:root:Client Index = 0\tEpoch: 0\tLoss: 0.622747\n",
            "INFO:root:################Communication round : 8\n",
            "INFO:root:client_indexes = [0]\n",
            "INFO:root:client_indexes = [0]\n",
            "INFO:root:Client Index = 0\tEpoch: 0\tLoss: 0.506504\n",
            "INFO:root:################Communication round : 9\n",
            "INFO:root:client_indexes = [0]\n",
            "INFO:root:client_indexes = [0]\n",
            "INFO:root:Client Index = 0\tEpoch: 0\tLoss: 0.409232\n",
            "INFO:root:################Communication round : 10\n",
            "INFO:root:client_indexes = [0]\n",
            "INFO:root:client_indexes = [0]\n",
            "INFO:root:Client Index = 0\tEpoch: 0\tLoss: 0.335699\n",
            "INFO:root:################local_test_on_all_clients : 10\n"
          ]
        }
      ],
      "source": [
        "! sh run_fedavg_standalone_pytorch.sh 0 1 1 10 cifar10 ./../../../data/cifar10 resnet18 hetero 20 1 0.03 sgd 0"
      ]
    },
    {
      "cell_type": "code",
      "execution_count": null,
      "metadata": {
        "id": "ZS8TilghGDBF"
      },
      "outputs": [],
      "source": []
    }
  ],
  "metadata": {
    "accelerator": "GPU",
    "colab": {
      "gpuType": "T4",
      "provenance": [],
      "include_colab_link": true
    },
    "kernelspec": {
      "display_name": "Python 3",
      "name": "python3"
    },
    "language_info": {
      "name": "python"
    }
  },
  "nbformat": 4,
  "nbformat_minor": 0
}